{
 "cells": [
  {
   "cell_type": "code",
   "execution_count": null,
   "metadata": {},
   "outputs": [],
   "source": [
    "\"\"\"Various intepolation schemes for PyTorch\"\"\"\n",
    "import os\n",
    "import sys\n",
    "import time\n",
    "\n",
    "import numpy as np\n",
    "import torch\n",
    "\n",
    "from matplotlib import pyplot as plt\n",
    "from skimage.io import imread\n",
    "\n",
    "from EquivariantBasis.EquivariantBasis import EquivariantBasis\n",
    "from interpolator.core import Interpolator\n",
    "from interpolator.kernels import BilinearKernel, GaussianKernel"
   ]
  },
  {
   "cell_type": "code",
   "execution_count": null,
   "metadata": {},
   "outputs": [],
   "source": [
    "dtype = torch.FloatTensor\n",
    "dtype_long = torch.LongTensor\n",
    "\n",
    "def view(image):\n",
    "    if image.shape[0] == 3:\n",
    "        image = image.transpose(1,2,0)\n",
    "    else:\n",
    "        image = image[0,...]\n",
    "    plt.figure(1, figsize=(12,8))\n",
    "    plt.imshow(image)\n",
    "    plt.show()\n",
    "\n",
    "def rot(theta, image_shape):\n",
    "    ## Define a grid of sample locations\n",
    "    I, J = np.meshgrid(np.linspace(1, image_shape[0], num=image_shape[0]),\n",
    "                       np.linspace(1, image_shape[1], num=image_shape[1]),\n",
    "                       indexing='ij')\n",
    "    samples = np.stack((I,J), 0)\n",
    "    R = np.reshape([np.cos(theta), -np.sin(theta), np.sin(theta), np.cos(theta)], (2,2))\n",
    "    shift = np.asarray(image_shape)[:,np.newaxis,np.newaxis]/2\n",
    "    sample_shape = samples.shape\n",
    "\n",
    "    samples -= shift\n",
    "    samples = np.reshape(samples, (2,-1))\n",
    "    samples = (R @ samples).reshape(*sample_shape)\n",
    "    samples += shift\n",
    "    return samples\n",
    "\n",
    "# Source: https://www.flickr.com/photos/48509939@N07/5927758528/in/photostream/\n",
    "image = imread('./owl.jpg').transpose(2,0,1)[np.newaxis,...]/255."
   ]
  },
  {
   "cell_type": "code",
   "execution_count": null,
   "metadata": {},
   "outputs": [],
   "source": [
    "# Let's rotate the owl\n",
    "samples = rot(0.1, image.shape[2:])"
   ]
  },
  {
   "cell_type": "code",
   "execution_count": null,
   "metadata": {},
   "outputs": [],
   "source": [
    "# Convert to pytorch tensors\n",
    "image = torch.FloatTensor(image).type(dtype)\n",
    "samples = torch.FloatTensor(samples).type(dtype)\n",
    "\n",
    "# get grid\n",
    "grid = EquivariantBasis.get_affine_grid(shape=image.shape, rot_thetas=[0.1])\n",
    "aux_grid = np.transpose(grid[0], (2,0,1))\n",
    "#flow to image indices\n",
    "aux_grid[0] = aux_grid[0]*(image.shape[-1]/2) + (image.shape[-1]/2)\n",
    "aux_grid[1] = aux_grid[1]*(image.shape[-2]/2) + (image.shape[-2]/2)\n",
    "aux_grid = aux_grid[[1,0]]"
   ]
  }
 ],
 "metadata": {
  "kernelspec": {
   "display_name": "Python 3",
   "language": "python",
   "name": "python3"
  },
  "language_info": {
   "codemirror_mode": {
    "name": "ipython",
    "version": 3
   },
   "file_extension": ".py",
   "mimetype": "text/x-python",
   "name": "python",
   "nbconvert_exporter": "python",
   "pygments_lexer": "ipython3",
   "version": "3.5.2"
  }
 },
 "nbformat": 4,
 "nbformat_minor": 2
}
